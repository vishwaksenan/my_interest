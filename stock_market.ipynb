{
 "cells": [
  {
   "cell_type": "code",
   "execution_count": 1,
   "metadata": {},
   "outputs": [],
   "source": [
    "import pandas as pd\n",
    "import tensorflow as tf\n",
    "import matplotlib.pyplot as plt\n",
    "import numpy as np"
   ]
  },
  {
   "cell_type": "code",
   "execution_count": 2,
   "metadata": {},
   "outputs": [
    {
     "data": {
      "text/html": [
       "<div>\n",
       "<style scoped>\n",
       "    .dataframe tbody tr th:only-of-type {\n",
       "        vertical-align: middle;\n",
       "    }\n",
       "\n",
       "    .dataframe tbody tr th {\n",
       "        vertical-align: top;\n",
       "    }\n",
       "\n",
       "    .dataframe thead th {\n",
       "        text-align: right;\n",
       "    }\n",
       "</style>\n",
       "<table border=\"1\" class=\"dataframe\">\n",
       "  <thead>\n",
       "    <tr style=\"text-align: right;\">\n",
       "      <th></th>\n",
       "      <th>Date</th>\n",
       "      <th>Price</th>\n",
       "      <th>Open</th>\n",
       "      <th>High</th>\n",
       "      <th>Low</th>\n",
       "      <th>Vol.</th>\n",
       "      <th>Change %</th>\n",
       "    </tr>\n",
       "  </thead>\n",
       "  <tbody>\n",
       "    <tr>\n",
       "      <th>0</th>\n",
       "      <td>Jul 18, 2018</td>\n",
       "      <td>1,999.50</td>\n",
       "      <td>2,005.00</td>\n",
       "      <td>2,010.80</td>\n",
       "      <td>1,997.35</td>\n",
       "      <td>658.04K</td>\n",
       "      <td>-0.13%</td>\n",
       "    </tr>\n",
       "    <tr>\n",
       "      <th>1</th>\n",
       "      <td>Jul 17, 2018</td>\n",
       "      <td>2,002.15</td>\n",
       "      <td>1,987.95</td>\n",
       "      <td>2,008.50</td>\n",
       "      <td>1,981.00</td>\n",
       "      <td>3.32M</td>\n",
       "      <td>0.65%</td>\n",
       "    </tr>\n",
       "    <tr>\n",
       "      <th>2</th>\n",
       "      <td>Jul 16, 2018</td>\n",
       "      <td>1,989.20</td>\n",
       "      <td>1,990.00</td>\n",
       "      <td>1,996.00</td>\n",
       "      <td>1,977.45</td>\n",
       "      <td>2.58M</td>\n",
       "      <td>0.41%</td>\n",
       "    </tr>\n",
       "    <tr>\n",
       "      <th>3</th>\n",
       "      <td>Jul 13, 2018</td>\n",
       "      <td>1,981.10</td>\n",
       "      <td>1,975.00</td>\n",
       "      <td>1,997.90</td>\n",
       "      <td>1,974.00</td>\n",
       "      <td>4.15M</td>\n",
       "      <td>0.49%</td>\n",
       "    </tr>\n",
       "    <tr>\n",
       "      <th>4</th>\n",
       "      <td>Jul 12, 2018</td>\n",
       "      <td>1,971.35</td>\n",
       "      <td>1,984.00</td>\n",
       "      <td>1,990.90</td>\n",
       "      <td>1,960.50</td>\n",
       "      <td>6.92M</td>\n",
       "      <td>-0.43%</td>\n",
       "    </tr>\n",
       "  </tbody>\n",
       "</table>\n",
       "</div>"
      ],
      "text/plain": [
       "           Date     Price      Open      High       Low     Vol. Change %\n",
       "0  Jul 18, 2018  1,999.50  2,005.00  2,010.80  1,997.35  658.04K   -0.13%\n",
       "1  Jul 17, 2018  2,002.15  1,987.95  2,008.50  1,981.00    3.32M    0.65%\n",
       "2  Jul 16, 2018  1,989.20  1,990.00  1,996.00  1,977.45    2.58M    0.41%\n",
       "3  Jul 13, 2018  1,981.10  1,975.00  1,997.90  1,974.00    4.15M    0.49%\n",
       "4  Jul 12, 2018  1,971.35  1,984.00  1,990.90  1,960.50    6.92M   -0.43%"
      ]
     },
     "execution_count": 2,
     "metadata": {},
     "output_type": "execute_result"
    }
   ],
   "source": [
    "df = pd.read_csv(\"abcd.csv\")\n",
    "df.head()"
   ]
  },
  {
   "cell_type": "code",
   "execution_count": 3,
   "metadata": {},
   "outputs": [
    {
     "data": {
      "text/plain": [
       "Date        object\n",
       "Price       object\n",
       "Open        object\n",
       "High        object\n",
       "Low         object\n",
       "Vol.        object\n",
       "Change %    object\n",
       "dtype: object"
      ]
     },
     "execution_count": 3,
     "metadata": {},
     "output_type": "execute_result"
    }
   ],
   "source": [
    "df.dtypes"
   ]
  },
  {
   "cell_type": "code",
   "execution_count": 4,
   "metadata": {},
   "outputs": [],
   "source": [
    "def conn(X):\n",
    "    result1 = []\n",
    "    res = []\n",
    "    for i in X:\n",
    "        if(i.__contains__(',')):\n",
    "            result1.append(i.replace(',',''))\n",
    "    \n",
    "    for ite in result1:\n",
    "        res.append(float(ite))\n",
    "    \n",
    "    return res;"
   ]
  },
  {
   "cell_type": "code",
   "execution_count": 5,
   "metadata": {},
   "outputs": [],
   "source": [
    "Price1 = np.array(df['Price'])\n",
    "Price2 = conn(Price1)\n",
    "Price = []\n",
    "Date = df['Date'].astype(str)\n",
    "for ite in Price2:\n",
    "    Price.append(float(ite))"
   ]
  },
  {
   "cell_type": "code",
   "execution_count": 6,
   "metadata": {},
   "outputs": [
    {
     "data": {
      "text/plain": [
       "[<matplotlib.lines.Line2D at 0x1cdcc621ac8>]"
      ]
     },
     "execution_count": 6,
     "metadata": {},
     "output_type": "execute_result"
    },
    {
     "data": {
      "image/png": "[encoded data removed]",
      "text/plain": [
       "<Figure size 432x288 with 1 Axes>"
      ]
     },
     "metadata": {
      "needs_background": "light"
     },
     "output_type": "display_data"
    }
   ],
   "source": [
    "plt.plot(Date,Price)"
   ]
  }
 ],
 "metadata": {
  "kernelspec": {
   "display_name": "Python 3",
   "language": "python",
   "name": "python3"
  },
  "language_info": {
   "codemirror_mode": {
    "name": "ipython",
    "version": 3
   },
   "file_extension": ".py",
   "mimetype": "text/x-python",
   "name": "python",
   "nbconvert_exporter": "python",
   "pygments_lexer": "ipython3",
   "version": "3.6.7"
  }
 },
 "nbformat": 4,
 "nbformat_minor": 2
}
